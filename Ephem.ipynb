{
 "cells": [
  {
   "cell_type": "markdown",
   "metadata": {},
   "source": [
    "# Ephemeris Zamanlarını Bulma Uygulaması"
   ]
  },
  {
   "cell_type": "markdown",
   "metadata": {},
   "source": [
    "### 1. Kütüphaneler"
   ]
  },
  {
   "cell_type": "code",
   "execution_count": 1,
   "metadata": {},
   "outputs": [],
   "source": [
    "import calendar\n",
    "import pandas as pd\n",
    "from datetime import datetime, timedelta\n",
    "import pytz\n"
   ]
  },
  {
   "cell_type": "markdown",
   "metadata": {},
   "source": [
    "### 2. JD Formatında Ephemeris Oluşturma\n",
    "Bu bölümde JD tutulma süreleri oluşturulmaktadır. \n",
    "Başlayacağınız tarihin JD sayısını, Yıldızın Periyodunu ve Tutulma adetini yazınız."
   ]
  },
  {
   "cell_type": "code",
   "execution_count": 6,
   "metadata": {},
   "outputs": [],
   "source": [
    "def liste_olustur(baslangic_sayi, period, iterasyon_sayisi):\n",
    "\n",
    "    liste = []\n",
    "  \n",
    "    for i in range(iterasyon_sayisi):\n",
    "        baslangic_sayi = baslangic_sayi + period\n",
    "        liste.append(format(baslangic_sayi, \".3f\"))\n",
    "    return liste\n",
    "\n",
    "\n",
    "liste = liste_olustur(baslangic_sayi=2460238.518, period=2.0562997, iterasyon_sayisi=100)"
   ]
  },
  {
   "cell_type": "markdown",
   "metadata": {},
   "source": [
    "### 3. JD Formatını UTC formatına çevirme."
   ]
  },
  {
   "cell_type": "code",
   "execution_count": 7,
   "metadata": {},
   "outputs": [],
   "source": [
    "def convert_jd_to_utc(jd_list):\n",
    "    utc_list = []\n",
    "    for i in range(len(jd_list)):\n",
    "        jd = float(jd_list[i])\n",
    "        # Convert JD to MJD (Modified Julian Date)\n",
    "        mjd = jd - 2400000.5\n",
    "\n",
    "        # Convert MJD to datetime\n",
    "        dt = datetime(1858, 11, 17) + timedelta(days=mjd)\n",
    "\n",
    "        # Convert datetime to UTC\n",
    "        utc = dt.replace(tzinfo=pytz.utc)\n",
    "        \n",
    "                         \n",
    "        # Append UTC to the list\n",
    "        utc_list.append(utc)\n",
    "\n",
    "    return utc_list\n",
    "\n",
    "def convert_utc_to_ut(utc_list):\n",
    "    ut_list = []\n",
    "    for i in range(len(utc_list)):\n",
    "        ut = utc_list[i] + timedelta(hours=3)  \n",
    "        ut_list.append(ut)         \n",
    "        \n",
    "    return ut_list\n",
    "jd_list = liste\n",
    "utc_list = convert_jd_to_utc(jd_list)\n",
    "ut_list = convert_utc_to_ut(utc_list)"
   ]
  },
  {
   "cell_type": "markdown",
   "metadata": {},
   "source": [
    "# 4. Tutulma Başlangıç ve Bitiş Zamanları Belirleme.\n",
    "\n",
    "Bu bölümde uzun periyodlu yıldızın tutulma zamanlarının başlangıç ve bitiş zamanları belirlenir. Yukarıda bulunan MID zamanına aynı saati ekleyip çıkartılarak bulunur. AAVSO dan kontrol edilip Tutulma süresinin bulunması gerekmektedir.\n",
    "\n",
    "Tutulma zamanları yerel saat farkı eklenerek elde edilmiştir."
   ]
  },
  {
   "cell_type": "code",
   "execution_count": 8,
   "metadata": {},
   "outputs": [
    {
     "name": "stdout",
     "output_type": "stream",
     "text": [
      "['23/10/2023 04:46', '25/10/2023 06:08', '27/10/2023 07:29', '29/10/2023 08:49', '31/10/2023 10:10', '02/11/2023 11:32', '04/11/2023 12:53', '06/11/2023 14:13', '08/11/2023 15:35', '10/11/2023 16:56', '12/11/2023 18:17', '14/11/2023 19:39', '16/11/2023 21:00', '18/11/2023 22:20', '20/11/2023 23:41', '23/11/2023 01:03', '25/11/2023 02:24', '27/11/2023 03:44', '29/11/2023 05:06', '01/12/2023 06:27', '03/12/2023 07:48', '05/12/2023 09:10', '07/12/2023 10:30', '09/12/2023 11:51', '11/12/2023 13:11', '13/12/2023 14:34', '15/12/2023 15:54', '17/12/2023 17:15', '19/12/2023 18:37', '21/12/2023 19:58', '23/12/2023 21:18', '25/12/2023 22:40', '28/12/2023 00:01', '30/12/2023 01:22', '01/01/2024 02:42', '03/01/2024 04:04', '05/01/2024 05:25', '07/01/2024 06:46', '09/01/2024 08:08', '11/01/2024 09:28', '13/01/2024 10:49', '15/01/2024 12:11', '17/01/2024 13:32', '19/01/2024 14:52', '21/01/2024 16:13', '23/01/2024 17:35', '25/01/2024 18:56', '27/01/2024 20:16', '29/01/2024 21:38', '31/01/2024 22:59', '03/02/2024 00:20', '05/02/2024 01:42', '07/02/2024 03:02', '09/02/2024 04:23', '11/02/2024 05:44', '13/02/2024 07:06', '15/02/2024 08:26', '17/02/2024 09:47', '19/02/2024 11:09', '21/02/2024 12:30', '23/02/2024 13:50', '25/02/2024 15:12', '27/02/2024 16:33', '29/02/2024 17:54', '02/03/2024 19:14', '04/03/2024 20:36', '06/03/2024 21:57', '08/03/2024 23:18', '11/03/2024 00:40', '13/03/2024 02:00', '15/03/2024 03:21', '17/03/2024 04:43', '19/03/2024 06:04', '21/03/2024 07:24', '23/03/2024 08:45', '25/03/2024 10:07', '27/03/2024 11:28', '29/03/2024 12:48', '31/03/2024 14:11', '02/04/2024 15:31', '04/04/2024 16:52', '06/04/2024 18:14', '08/04/2024 19:35', '10/04/2024 20:55', '12/04/2024 22:16', '14/04/2024 23:38', '17/04/2024 00:59', '19/04/2024 02:19', '21/04/2024 03:41', '23/04/2024 05:02', '25/04/2024 06:23', '27/04/2024 07:45', '29/04/2024 09:05', '01/05/2024 10:26', '03/05/2024 11:47', '05/05/2024 13:09', '07/05/2024 14:29', '09/05/2024 15:50', '11/05/2024 17:12', '13/05/2024 18:33']\n"
     ]
    }
   ],
   "source": [
    "start_list = []\n",
    "finish_list = []\n",
    "\n",
    "start1_list = []\n",
    "finish1_list = []\n",
    "\n",
    "for i in range(len(utc_list)):\n",
    "    start = utc_list[i] - timedelta(hours=3, minutes=42)\n",
    "    start_list.append(start)\n",
    "    start1 = start + timedelta(hours=3)\n",
    "    start1_list.append(start1)\n",
    "    \n",
    "    finish = utc_list[i] + timedelta(hours=3, minutes=42)\n",
    "    finish_list.append(finish)\n",
    "    finish1 = finish + timedelta(hours=3)\n",
    "    finish1_list.append(finish1)\n",
    "\n",
    "start_list_string = [datetime_obj.strftime('%d/%m/%Y %H:%M') for datetime_obj in start1_list]\n",
    "finish_list_string = [datetime_obj.strftime('%d/%m/%Y %H:%M') for datetime_obj in finish1_list]\n",
    "time_string_list = [datetime_obj.strftime('%d/%m/%Y %H:%M') for datetime_obj in ut_list]\n",
    "\n",
    "print(time_string_list)"
   ]
  },
  {
   "cell_type": "markdown",
   "metadata": {},
   "source": [
    "### 5. Excel dosyasına yazdırma. \n",
    "\n",
    "Bu bölümde eğer star ve finish kısımlarını çalıştırmadıysanız df değişkenindeki library den bu kısımları silin. Aynı zamanda konumu değiştirmeniz gerekmektedir."
   ]
  },
  {
   "cell_type": "code",
   "execution_count": 9,
   "metadata": {},
   "outputs": [],
   "source": [
    "df = pd.DataFrame({\"Epoch\" : liste, \"Start\" : start_list_string ,\"Mid\": time_string_list, \"Finish\" : finish_list_string})\n",
    "\n",
    "df.to_excel(\"D:\\\\Kodlama\\\\Ephem.xlsx\")"
   ]
  },
  {
   "cell_type": "code",
   "execution_count": null,
   "metadata": {},
   "outputs": [],
   "source": []
  }
 ],
 "metadata": {
  "kernelspec": {
   "display_name": "Python 3 (ipykernel)",
   "language": "python",
   "name": "python3"
  },
  "language_info": {
   "codemirror_mode": {
    "name": "ipython",
    "version": 3
   },
   "file_extension": ".py",
   "mimetype": "text/x-python",
   "name": "python",
   "nbconvert_exporter": "python",
   "pygments_lexer": "ipython3",
   "version": "3.11.5"
  }
 },
 "nbformat": 4,
 "nbformat_minor": 2
}
