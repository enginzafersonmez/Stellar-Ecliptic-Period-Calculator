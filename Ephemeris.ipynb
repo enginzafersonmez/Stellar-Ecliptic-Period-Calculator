{
 "cells": [
  {
   "cell_type": "markdown",
   "metadata": {},
   "source": [
    "# Stellar Ecliptic Period Calculator"
   ]
  },
  {
   "cell_type": "markdown",
   "metadata": {},
   "source": [
    "### 1. Libraries"
   ]
  },
  {
   "cell_type": "code",
   "execution_count": 2,
   "metadata": {},
   "outputs": [],
   "source": [
    "import calendar\n",
    "import pandas as pd\n",
    "from datetime import datetime, timedelta\n",
    "import pytz"
   ]
  },
  {
   "cell_type": "markdown",
   "metadata": {},
   "source": [
    "### 2. Creating Ephemeris in JD Format\n",
    "In this section, JD eclipse periods are being generated.\n",
    "Please provide the JD number of the starting date, the Star's Period, and the number of Eclipses.\n",
    "\n",
    "To determine the initial JD time, investigate the star's eclipses in the AAVSO database.\n",
    "AAVSO: https://www.aavso.org/vsx/index.php?view=search.top"
   ]
  },
  {
   "cell_type": "code",
   "execution_count": 4,
   "metadata": {},
   "outputs": [],
   "source": [
    "def create_jd_list(julian_date, period, iteration_number):\n",
    "\n",
    "  jd_list = []\n",
    "  \n",
    "  for i in range(iteration_number):\n",
    "    julian_date = julian_date + period\n",
    "    jd_list.append(format(julian_date, \".3f\"))\n",
    "  return jd_list\n",
    "\n",
    "\n",
    "jd_list = create_jd_list(julian_date=2460238.518, period=2.0562997, iteration_number=20)"
   ]
  },
  {
   "cell_type": "markdown",
   "metadata": {},
   "source": [
    "### 3. Converting JD Format to UTC Format"
   ]
  },
  {
   "cell_type": "code",
   "execution_count": 5,
   "metadata": {},
   "outputs": [],
   "source": [
    "def convert_jd_to_utc(jd_list):\n",
    "    utc_list = []\n",
    "\n",
    "    for i in range(len(jd_list)):\n",
    "        jd = float(jd_list[i])\n",
    "        # Convert JD to MJD (Modified Julian Date)\n",
    "        mjd = jd - 2400000.5\n",
    "\n",
    "        # Convert MJD to datetime\n",
    "        dt = datetime(1858, 11, 17) + timedelta(days=mjd)\n",
    "\n",
    "        # Convert datetime to UTC\n",
    "        utc = dt.replace(tzinfo=pytz.utc)\n",
    "\n",
    "        # Append UTC to the list\n",
    "        utc_list.append(utc)\n",
    "\n",
    "    return utc_list\n",
    "def convert_utc_to_ut(utc_list):\n",
    "    ut_list = []\n",
    "    for i in range(len(utc_list)):\n",
    "        ut = utc_list[i] + timedelta(hours=0)  #Note: Please input the local time zone difference of your region. Example: Turkey +3\n",
    "        ut_list.append(ut)         \n",
    "        \n",
    "    return ut_list\n",
    "\n",
    "utc_list = convert_jd_to_utc(jd_list)\n",
    "ut_list = convert_utc_to_ut(utc_list)"
   ]
  },
  {
   "cell_type": "markdown",
   "metadata": {},
   "source": [
    "### 4. Determining Eclipse Onset and Conclusion Times\n",
    "\n",
    "In this section, the onset and conclusion times of eclipses for long-period stars are established. These times are derived by adding and subtracting the same hour from the previously determined MID time. It is imperative to cross-reference this information with AAVSO to ascertain the duration of the eclipse.\n",
    "\n",
    "If AAVSO provides only the MID time, this step is unnecessary.\n",
    "\n",
    "Note: Please input the local time zone difference of your region. Example: Turkey +3"
   ]
  },
  {
   "cell_type": "code",
   "execution_count": 6,
   "metadata": {},
   "outputs": [
    {
     "name": "stdout",
     "output_type": "stream",
     "text": [
      "['23/10/2023 04:46', '25/10/2023 06:08', '27/10/2023 07:29', '29/10/2023 08:49', '31/10/2023 10:10', '02/11/2023 11:32', '04/11/2023 12:53', '06/11/2023 14:13', '08/11/2023 15:35', '10/11/2023 16:56', '12/11/2023 18:17', '14/11/2023 19:39', '16/11/2023 21:00', '18/11/2023 22:20', '20/11/2023 23:41', '23/11/2023 01:03', '25/11/2023 02:24', '27/11/2023 03:44', '29/11/2023 05:06', '01/12/2023 06:27']\n"
     ]
    }
   ],
   "source": [
    "start_list = []\n",
    "finish_list = []\n",
    "\n",
    "start1_list = []\n",
    "finish1_list = []\n",
    "\n",
    "for i in range(len(utc_list)):\n",
    "    start = utc_list[i] - timedelta(hours=3, minutes=42)\n",
    "    start_list.append(start)\n",
    "    start1 = start + timedelta(hours=0) #Note: Please input the local time zone difference of your region. Example: Turkey +3\n",
    "    start1_list.append(start1)\n",
    "    \n",
    "    finish = utc_list[i] + timedelta(hours=3, minutes=42)\n",
    "    finish_list.append(finish)\n",
    "    finish1 = finish + timedelta(hours=0) #Note: Please input the local time zone difference of your region. Example: Turkey +3\n",
    "    finish1_list.append(finish1)\n",
    "\n",
    "start_list_string = [datetime_obj.strftime('%d/%m/%Y %H:%M') for datetime_obj in start1_list]\n",
    "finish_list_string = [datetime_obj.strftime('%d/%m/%Y %H:%M') for datetime_obj in finish1_list]\n",
    "time_string_list = [datetime_obj.strftime('%d/%m/%Y %H:%M') for datetime_obj in ut_list]\n",
    "\n",
    "print(time_string_list)"
   ]
  },
  {
   "cell_type": "markdown",
   "metadata": {},
   "source": [
    "### 5. Printing to an Excel File\n",
    "\n",
    "In this section, if you haven't executed the start and finish sections, please remove these parts from the \"df\" variable. Additionally, you need to change the location."
   ]
  },
  {
   "cell_type": "code",
   "execution_count": 7,
   "metadata": {},
   "outputs": [
    {
     "name": "stdout",
     "output_type": "stream",
     "text": [
      "['23/10/2023 01:46', '25/10/2023 03:08', '27/10/2023 04:29', '29/10/2023 05:49', '31/10/2023 07:10', '02/11/2023 08:32', '04/11/2023 09:53', '06/11/2023 11:13', '08/11/2023 12:35', '10/11/2023 13:56', '12/11/2023 15:17', '14/11/2023 16:39', '16/11/2023 18:00', '18/11/2023 19:20', '20/11/2023 20:41', '22/11/2023 22:03', '24/11/2023 23:24', '27/11/2023 00:44', '29/11/2023 02:06', '01/12/2023 03:27']\n"
     ]
    }
   ],
   "source": [
    "time_string_list = [datetime_obj.strftime('%d/%m/%Y %H:%M') for datetime_obj in utc_list]\n",
    "\n",
    "print(time_string_list)\n",
    "\n",
    "df = pd.DataFrame({\"Epoch\" : jd_list, \"Start\" : start_list_string ,\"Mid\": time_string_list, \"Finish\" : finish_list_string})\n",
    "\n",
    "\n",
    "df.to_excel(\"C:\\\\location\\\\ephemeris.xlsx\") "
   ]
  }
 ],
 "metadata": {
  "kernelspec": {
   "display_name": "base",
   "language": "python",
   "name": "python3"
  },
  "language_info": {
   "codemirror_mode": {
    "name": "ipython",
    "version": 3
   },
   "file_extension": ".py",
   "mimetype": "text/x-python",
   "name": "python",
   "nbconvert_exporter": "python",
   "pygments_lexer": "ipython3",
   "version": "3.11.5"
  }
 },
 "nbformat": 4,
 "nbformat_minor": 2
}
